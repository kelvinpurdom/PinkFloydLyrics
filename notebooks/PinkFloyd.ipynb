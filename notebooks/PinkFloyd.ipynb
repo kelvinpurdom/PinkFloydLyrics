{
 "cells": [
  {
   "cell_type": "markdown",
   "id": "8e872835",
   "metadata": {},
   "source": [
    "# Pink Floyd Lyrics"
   ]
  },
  {
   "cell_type": "code",
   "execution_count": 2,
   "id": "38233338",
   "metadata": {},
   "outputs": [],
   "source": [
    "import numpy as np\n",
    "import pandas as pd"
   ]
  },
  {
   "cell_type": "code",
   "execution_count": 11,
   "id": "755ed4ab",
   "metadata": {},
   "outputs": [],
   "source": [
    "file = \"../raw_data/pink_floyd_lyrics.csv\"\n",
    "pink_df = pd.read_csv(file, decimal=\",\")"
   ]
  },
  {
   "cell_type": "code",
   "execution_count": 12,
   "id": "bd7ffef5",
   "metadata": {},
   "outputs": [
    {
     "data": {
      "text/html": [
       "<div>\n",
       "<style scoped>\n",
       "    .dataframe tbody tr th:only-of-type {\n",
       "        vertical-align: middle;\n",
       "    }\n",
       "\n",
       "    .dataframe tbody tr th {\n",
       "        vertical-align: top;\n",
       "    }\n",
       "\n",
       "    .dataframe thead th {\n",
       "        text-align: right;\n",
       "    }\n",
       "</style>\n",
       "<table border=\"1\" class=\"dataframe\">\n",
       "  <thead>\n",
       "    <tr style=\"text-align: right;\">\n",
       "      <th></th>\n",
       "      <th>album</th>\n",
       "      <th>song_title</th>\n",
       "      <th>year</th>\n",
       "      <th>lyrics</th>\n",
       "    </tr>\n",
       "  </thead>\n",
       "  <tbody>\n",
       "    <tr>\n",
       "      <th>0</th>\n",
       "      <td>The Piper at the Gates of Dawn</td>\n",
       "      <td>Astronomy Domine</td>\n",
       "      <td>1967-08-05</td>\n",
       "      <td>\"Moon in both [houses]...\"...Scorpio, [Arabian...</td>\n",
       "    </tr>\n",
       "    <tr>\n",
       "      <th>1</th>\n",
       "      <td>The Piper at the Gates of Dawn</td>\n",
       "      <td>Lucifer Sam</td>\n",
       "      <td>1967-08-05</td>\n",
       "      <td>Lucifer Sam, siam cat\\nAlways sitting by your ...</td>\n",
       "    </tr>\n",
       "    <tr>\n",
       "      <th>2</th>\n",
       "      <td>The Piper at the Gates of Dawn</td>\n",
       "      <td>Matilda Mother</td>\n",
       "      <td>1967-08-05</td>\n",
       "      <td>There was a king who ruled the land\\nHis Majes...</td>\n",
       "    </tr>\n",
       "    <tr>\n",
       "      <th>3</th>\n",
       "      <td>The Piper at the Gates of Dawn</td>\n",
       "      <td>Flaming</td>\n",
       "      <td>1967-08-05</td>\n",
       "      <td>Alone in the clouds all blue\\nLying on an eide...</td>\n",
       "    </tr>\n",
       "    <tr>\n",
       "      <th>4</th>\n",
       "      <td>The Piper at the Gates of Dawn</td>\n",
       "      <td>Pow R. Toc H.</td>\n",
       "      <td>1967-08-05</td>\n",
       "      <td>TCH TCH\\nAHH (AHH)\\nTCH TCH\\nAHH AHH\\nDoi doi\\...</td>\n",
       "    </tr>\n",
       "    <tr>\n",
       "      <th>...</th>\n",
       "      <td>...</td>\n",
       "      <td>...</td>\n",
       "      <td>...</td>\n",
       "      <td>...</td>\n",
       "    </tr>\n",
       "    <tr>\n",
       "      <th>158</th>\n",
       "      <td>The Endless River</td>\n",
       "      <td>Surfacing</td>\n",
       "      <td>2014-11-07</td>\n",
       "      <td>NaN</td>\n",
       "    </tr>\n",
       "    <tr>\n",
       "      <th>159</th>\n",
       "      <td>The Endless River</td>\n",
       "      <td>Louder than Words</td>\n",
       "      <td>2014-10-14</td>\n",
       "      <td>We bitch and we fight\\nDiss each other on sigh...</td>\n",
       "    </tr>\n",
       "    <tr>\n",
       "      <th>160</th>\n",
       "      <td>The Endless River</td>\n",
       "      <td>TBS9</td>\n",
       "      <td>2014-11-07</td>\n",
       "      <td>NaN</td>\n",
       "    </tr>\n",
       "    <tr>\n",
       "      <th>161</th>\n",
       "      <td>The Endless River</td>\n",
       "      <td>TBS14</td>\n",
       "      <td>2014-11-07</td>\n",
       "      <td>NaN</td>\n",
       "    </tr>\n",
       "    <tr>\n",
       "      <th>162</th>\n",
       "      <td>The Endless River</td>\n",
       "      <td>Nervana</td>\n",
       "      <td>2014-11-07</td>\n",
       "      <td>NaN</td>\n",
       "    </tr>\n",
       "  </tbody>\n",
       "</table>\n",
       "<p>163 rows × 4 columns</p>\n",
       "</div>"
      ],
      "text/plain": [
       "                              album         song_title        year  \\\n",
       "0    The Piper at the Gates of Dawn   Astronomy Domine  1967-08-05   \n",
       "1    The Piper at the Gates of Dawn        Lucifer Sam  1967-08-05   \n",
       "2    The Piper at the Gates of Dawn     Matilda Mother  1967-08-05   \n",
       "3    The Piper at the Gates of Dawn            Flaming  1967-08-05   \n",
       "4    The Piper at the Gates of Dawn      Pow R. Toc H.  1967-08-05   \n",
       "..                              ...                ...         ...   \n",
       "158               The Endless River          Surfacing  2014-11-07   \n",
       "159               The Endless River  Louder than Words  2014-10-14   \n",
       "160               The Endless River               TBS9  2014-11-07   \n",
       "161               The Endless River              TBS14  2014-11-07   \n",
       "162               The Endless River            Nervana  2014-11-07   \n",
       "\n",
       "                                                lyrics  \n",
       "0    \"Moon in both [houses]...\"...Scorpio, [Arabian...  \n",
       "1    Lucifer Sam, siam cat\\nAlways sitting by your ...  \n",
       "2    There was a king who ruled the land\\nHis Majes...  \n",
       "3    Alone in the clouds all blue\\nLying on an eide...  \n",
       "4    TCH TCH\\nAHH (AHH)\\nTCH TCH\\nAHH AHH\\nDoi doi\\...  \n",
       "..                                                 ...  \n",
       "158                                                NaN  \n",
       "159  We bitch and we fight\\nDiss each other on sigh...  \n",
       "160                                                NaN  \n",
       "161                                                NaN  \n",
       "162                                                NaN  \n",
       "\n",
       "[163 rows x 4 columns]"
      ]
     },
     "execution_count": 12,
     "metadata": {},
     "output_type": "execute_result"
    }
   ],
   "source": [
    "pink_df"
   ]
  },
  {
   "cell_type": "code",
   "execution_count": 13,
   "id": "a48f7e35",
   "metadata": {},
   "outputs": [],
   "source": [
    "pink_df = pink_df.replace(r'\\n',' ', regex=True) "
   ]
  },
  {
   "cell_type": "code",
   "execution_count": null,
   "id": "3a312887",
   "metadata": {},
   "outputs": [],
   "source": [
    "pink_df"
   ]
  }
 ],
 "metadata": {
  "kernelspec": {
   "display_name": "Python 3 (ipykernel)",
   "language": "python",
   "name": "python3"
  },
  "language_info": {
   "codemirror_mode": {
    "name": "ipython",
    "version": 3
   },
   "file_extension": ".py",
   "mimetype": "text/x-python",
   "name": "python",
   "nbconvert_exporter": "python",
   "pygments_lexer": "ipython3",
   "version": "3.9.9"
  },
  "toc": {
   "base_numbering": 1,
   "nav_menu": {},
   "number_sections": true,
   "sideBar": true,
   "skip_h1_title": false,
   "title_cell": "Table of Contents",
   "title_sidebar": "Contents",
   "toc_cell": false,
   "toc_position": {},
   "toc_section_display": true,
   "toc_window_display": false
  }
 },
 "nbformat": 4,
 "nbformat_minor": 5
}
